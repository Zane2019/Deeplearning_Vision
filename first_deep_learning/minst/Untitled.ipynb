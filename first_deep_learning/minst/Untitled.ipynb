{
 "cells": [
  {
   "cell_type": "code",
   "execution_count": 14,
   "metadata": {},
   "outputs": [
    {
     "name": "stdout",
     "output_type": "stream",
     "text": [
      "tensor([[-2.0126, -0.1954,  0.2089],\n",
      "        [ 0.3468, -0.3687, -0.9970]])\n",
      "torch.Size([2, 3])\n",
      "tensor([[[-2.0126, -0.1954,  0.2089],\n",
      "         [ 0.3468, -0.3687, -0.9970]]])\n",
      "torch.Size([1, 2, 3])\n",
      "tensor([[-0.9261, -0.1387, -0.0459],\n",
      "        [-1.0748,  2.0641, -1.2162]])\n",
      "torch.Size([2, 3])\n"
     ]
    }
   ],
   "source": [
    "import torch\n",
    "\n",
    "a=torch.randn(2,3)\n",
    "print(a)\n",
    "print(a.shape)\n",
    "b=a.unsqueeze(0)\n",
    "print(b)\n",
    "print(ｂ.shape)\n",
    "\n",
    "print(c)\n",
    "c=b.squeeze(0)\n",
    "print(c.shape)"
   ]
  }
 ],
 "metadata": {
  "kernelspec": {
   "display_name": "Python [conda env:pytouch_env3] *",
   "language": "python",
   "name": "conda-env-pytouch_env3-py"
  },
  "language_info": {
   "codemirror_mode": {
    "name": "ipython",
    "version": 3
   },
   "file_extension": ".py",
   "mimetype": "text/x-python",
   "name": "python",
   "nbconvert_exporter": "python",
   "pygments_lexer": "ipython3",
   "version": "3.7.5"
  },
  "toc": {
   "base_numbering": 1,
   "nav_menu": {},
   "number_sections": true,
   "sideBar": true,
   "skip_h1_title": false,
   "title_cell": "Table of Contents",
   "title_sidebar": "Contents",
   "toc_cell": false,
   "toc_position": {},
   "toc_section_display": true,
   "toc_window_display": true
  }
 },
 "nbformat": 4,
 "nbformat_minor": 2
}
